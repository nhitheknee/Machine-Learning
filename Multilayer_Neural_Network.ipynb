{
  "nbformat": 4,
  "nbformat_minor": 0,
  "metadata": {
    "colab": {
      "name": "Multilayer Neural Network.ipynb",
      "provenance": [],
      "collapsed_sections": [],
      "authorship_tag": "ABX9TyOGMN9NQvswFn0inziRwef5",
      "include_colab_link": true
    },
    "kernelspec": {
      "name": "python3",
      "display_name": "Python 3"
    },
    "language_info": {
      "name": "python"
    }
  },
  "cells": [
    {
      "cell_type": "markdown",
      "metadata": {
        "id": "view-in-github",
        "colab_type": "text"
      },
      "source": [
        "<a href=\"https://colab.research.google.com/github/nhitheknee/Machine-Learning/blob/main/Multilayer_Neural_Network.ipynb\" target=\"_parent\"><img src=\"https://colab.research.google.com/assets/colab-badge.svg\" alt=\"Open In Colab\"/></a>"
      ]
    },
    {
      "cell_type": "code",
      "execution_count": null,
      "metadata": {
        "id": "5RusmgKqtLvW"
      },
      "outputs": [],
      "source": [
        "from tensorflow import keras\n",
        "from keras.datasets import mnist\n",
        "import matplotlib as mpl\n",
        "import matplotlib.pyplot as plt\n",
        "import numpy as np"
      ]
    },
    {
      "cell_type": "code",
      "source": [
        "# Load dataset and print shapes of train sets and test sets\n",
        "(x_train, y_train), (x_test, y_test) = mnist.load_data()\n",
        "\n",
        "# Plot a set of data to test\n",
        "some_digit = x_train[1]\n",
        "some_digit_image = some_digit.reshape(28, 28)\n",
        "plt.imshow(some_digit_image)\n",
        "plt.axis(\"off\")\n",
        "\n",
        "plt.show()"
      ],
      "metadata": {
        "colab": {
          "base_uri": "https://localhost:8080/",
          "height": 300
        },
        "id": "yBX2KdndtaJh",
        "outputId": "4724ec9e-663f-4882-a61f-b23dab08956e"
      },
      "execution_count": null,
      "outputs": [
        {
          "output_type": "stream",
          "name": "stdout",
          "text": [
            "Downloading data from https://storage.googleapis.com/tensorflow/tf-keras-datasets/mnist.npz\n",
            "11493376/11490434 [==============================] - 0s 0us/step\n",
            "11501568/11490434 [==============================] - 0s 0us/step\n"
          ]
        },
        {
          "output_type": "display_data",
          "data": {
            "text/plain": [
              "<Figure size 432x288 with 1 Axes>"
            ],
            "image/png": "[encoded data removed]"
          },
          "metadata": {
            "needs_background": "light"
          }
        }
      ]
    },
    {
      "cell_type": "code",
      "source": [
        "# Flatten and normalize data\n",
        "x_train = x_train.reshape(x_train.shape[0], 784)\n",
        "x_train = keras.utils.normalize(x_train, axis=1)\n",
        "x_train = x_train.astype('float32') / 255\n",
        "\n",
        "x_test = x_test.reshape(x_test.shape[0], 784)\n",
        "x_test = keras.utils.normalize(x_test, axis=1)\n",
        "x_test = x_test.astype('float32') / 255\n",
        "\n",
        "print(x_train.shape[0], x_train.shape[1])\n",
        "print(x_test.shape[0], x_test.shape[1])"
      ],
      "metadata": {
        "id": "q9AGwyUNuHnt",
        "colab": {
          "base_uri": "https://localhost:8080/"
        },
        "outputId": "f6192ab0-339d-48cc-83ba-1cabcf61cafe"
      },
      "execution_count": null,
      "outputs": [
        {
          "output_type": "stream",
          "name": "stdout",
          "text": [
            "60000 784\n",
            "10000 784\n"
          ]
        }
      ]
    },
    {
      "cell_type": "code",
      "source": [
        "# Represent output as one-hot vector\n",
        "y_train = keras.utils.to_categorical(y_train)\n",
        "y_test = keras.utils.to_categorical(y_test)\n"
      ],
      "metadata": {
        "id": "Fni-w0zQunya"
      },
      "execution_count": null,
      "outputs": []
    },
    {
      "cell_type": "code",
      "source": [
        "# Training parameters\n",
        "batch_size = 128\n",
        "dropout = 0.45\n",
        "\n",
        "# Building logistic neural network\n",
        "def logistic_model():\n",
        "    model = keras.Sequential()  # create a sequential model\n",
        "\n",
        "    # Define input and hidden layers\n",
        "    model.add(keras.layers.Dense(256, input_dim=784))    # input layer (784 nodes)\n",
        "    model.add(keras.layers.Dropout(dropout))\n",
        "    model.add(keras.layers.Dense(100, activation='relu'))   # hidden layer 1 (100 nodes)\n",
        "    model.add(keras.layers.Dropout(dropout))\n",
        "    model.add(keras.layers.Dense(100, activation='relu'))   # hidden layer 2 (100 nodes)\n",
        "    model.add(keras.layers.Dropout(dropout))\n",
        "\n",
        "    # Define output layer\n",
        "    model.add(keras.layers.Dense(10, activation='softmax'))   # units (nodes) = 10 for 10 classes\n",
        "\n",
        "    # Compile model\n",
        "    model.compile(optimizer='adam', loss='categorical_crossentropy', metrics=['accuracy'])\n",
        "\n",
        "    return model\n",
        "\n",
        "\n",
        "# Training the data by fitting to the NN\n",
        "def train_model(model):\n",
        "    history = model.fit(x_train, y_train, epochs=10, batch_size=batch_size, shuffle=True)\n",
        "\n",
        "    epochs = history.epoch  # track training progress at each epoch\n",
        "    hist = history.history\n",
        "\n",
        "    return epochs, hist"
      ],
      "metadata": {
        "id": "iICFX0xav3VT"
      },
      "execution_count": null,
      "outputs": []
    },
    {
      "cell_type": "code",
      "source": [
        "if __name__ == '__main__':\n",
        "    my_model = logistic_model()\n",
        "    epochs, hist = train_model(my_model)\n",
        "\n",
        "    loss, acc = my_model.evaluate(x_test, y_test, batch_size=batch_size)\n",
        "    print(\"\\nTest Accuracy: \", (100*acc))"
      ],
      "metadata": {
        "colab": {
          "base_uri": "https://localhost:8080/"
        },
        "id": "oiyKoNdMwrp3",
        "outputId": "f09b41f9-25eb-4ecb-81a1-62ce01656cbe"
      },
      "execution_count": null,
      "outputs": [
        {
          "output_type": "stream",
          "name": "stdout",
          "text": [
            "Epoch 1/10\n",
            "469/469 [==============================] - 3s 6ms/step - loss: 1.8329 - accuracy: 0.3054\n",
            "Epoch 2/10\n",
            "469/469 [==============================] - 3s 5ms/step - loss: 1.0399 - accuracy: 0.6318\n",
            "Epoch 3/10\n",
            "469/469 [==============================] - 3s 5ms/step - loss: 0.7414 - accuracy: 0.7556\n",
            "Epoch 4/10\n",
            "469/469 [==============================] - 3s 5ms/step - loss: 0.6343 - accuracy: 0.8010\n",
            "Epoch 5/10\n",
            "469/469 [==============================] - 3s 5ms/step - loss: 0.5882 - accuracy: 0.8171\n",
            "Epoch 6/10\n",
            "469/469 [==============================] - 3s 5ms/step - loss: 0.5495 - accuracy: 0.8335\n",
            "Epoch 7/10\n",
            "469/469 [==============================] - 3s 5ms/step - loss: 0.5262 - accuracy: 0.8409\n",
            "Epoch 8/10\n",
            "469/469 [==============================] - 3s 5ms/step - loss: 0.4977 - accuracy: 0.8512\n",
            "Epoch 9/10\n",
            "469/469 [==============================] - 3s 5ms/step - loss: 0.4747 - accuracy: 0.8589\n",
            "Epoch 10/10\n",
            "469/469 [==============================] - 3s 5ms/step - loss: 0.4449 - accuracy: 0.8678\n",
            "79/79 [==============================] - 0s 3ms/step - loss: 0.3245 - accuracy: 0.8992\n",
            "\n",
            "Test Accuracy:  89.92000222206116\n"
          ]
        }
      ]
    },
    {
      "cell_type": "markdown",
      "source": [
        "Higher accuracy can be obtained by increasing number of epoch (97% accuracy at epoch 50)."
      ],
      "metadata": {
        "id": "XCumdWWasea3"
      }
    },
    {
      "cell_type": "code",
      "source": [
        "# Classification error\n",
        "\n",
        "# Reload non-binary dataset\n",
        "(x_train2, x_train2), (x_test2, y_test2) = mnist.load_data()\n",
        "\n",
        "\n",
        "corrects, incorrects = my_model.evaluate(x_test, y_test)\n",
        "print(\"Classification Error: \", incorrects/(corrects + incorrects))\n"
      ],
      "metadata": {
        "colab": {
          "base_uri": "https://localhost:8080/"
        },
        "id": "4wu_6OJKyJb-",
        "outputId": "2a98db7a-9f63-40d6-8207-b312d31842e0"
      },
      "execution_count": null,
      "outputs": [
        {
          "output_type": "stream",
          "name": "stdout",
          "text": [
            "313/313 [==============================] - 1s 2ms/step - loss: 0.3253 - accuracy: 0.8970\n",
            "Classification Error:  0.7338792804822923\n"
          ]
        }
      ]
    }
  ]
}